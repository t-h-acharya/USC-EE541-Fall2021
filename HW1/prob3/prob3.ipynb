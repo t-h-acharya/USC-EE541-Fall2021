{
 "cells": [
  {
   "cell_type": "markdown",
   "id": "e1b35a66-dc95-45b6-acb1-2865319afc74",
   "metadata": {},
   "source": [
    "## Homework #1 – Tools and Fundamentals\n",
    "### Problem 3\n",
    "### Name: Tejas Harishchandra Acharya\n",
    "### Date: 08/08/2025"
   ]
  },
  {
   "cell_type": "code",
   "execution_count": null,
   "id": "6b3845d2-d9c1-47de-9aa5-ed22967bca74",
   "metadata": {},
   "outputs": [],
   "source": [
    "# Imports\n",
    "from func import f\n",
    "import sys"
   ]
  },
  {
   "cell_type": "code",
   "execution_count": null,
   "id": "ea8355fc-feff-4b87-9928-4abaddb86662",
   "metadata": {},
   "outputs": [],
   "source": [
    "# Constants\n",
    "CONVERGENCE_CRITERION = 10E-10"
   ]
  },
  {
   "cell_type": "code",
   "execution_count": null,
   "id": "27a4b0f8-e1cb-475c-94ae-fa6edf0396e1",
   "metadata": {},
   "outputs": [],
   "source": [
    "def get_secant_root(a, b):\n",
    "    xn_1 = b\n",
    "    xn_2 = a\n",
    "    N = 0\n",
    "    \n",
    "    if abs(xn_1 - xn_2) < CONVERGENCE_CRITERION:\n",
    "        xn = (xn_1 + xn_2) / 2\n",
    "        return N, xn_2, xn_1, xn\n",
    "    else:\n",
    "        xn = xn_1 - f(xn_1) * (xn_1 - xn_2) / (f(xn_1) - f(xn_2))\n",
    "        N = 1\n",
    "        xn_2 = xn_1\n",
    "        xn_1 = xn\n",
    "        while abs(xn_1 - xn_2) >= CONVERGENCE_CRITERION:\n",
    "            xn = xn_1 - f(xn_1) * (xn_1 - xn_2) / (f(xn_1) - f(xn_2))\n",
    "            N += 1\n",
    "            xn_2 = xn_1\n",
    "            xn_1 = xn\n",
    "        return N, xn_2, xn_1, xn"
   ]
  },
  {
   "cell_type": "code",
   "execution_count": null,
   "id": "75f329ff-95ae-4d99-a119-bdf93516762e",
   "metadata": {},
   "outputs": [],
   "source": [
    "a = sys.argv[1]\n",
    "b = sys.argv[2]\n",
    "\n",
    "try:\n",
    "    a = float(a)\n",
    "    b = float(b)\n",
    "except:s\n",
    "    sys.stderr.write(\"Range error\")\n",
    "    sys.exit(1)\n",
    "\n",
    "if a >= b:\n",
    "    sys.stderr.write(\"Range error\")\n",
    "    sys.exit(1)\n",
    "\n",
    "if (f(a) * f(b)) >= 0:\n",
    "    sys.stderr.write(\"Range error\")\n",
    "    sys.exit(1)\n",
    "\n",
    "N, xn_2, xn_1, xn = get_secant_root(a, b)\n",
    "\n",
    "print(N)\n",
    "print(xn_2)\n",
    "print(xn_1)\n",
    "print(xn)"
   ]
  }
 ],
 "metadata": {
  "kernelspec": {
   "display_name": "Python 3 (ipykernel)",
   "language": "python",
   "name": "python3"
  },
  "language_info": {
   "codemirror_mode": {
    "name": "ipython",
    "version": 3
   },
   "file_extension": ".py",
   "mimetype": "text/x-python",
   "name": "python",
   "nbconvert_exporter": "python",
   "pygments_lexer": "ipython3",
   "version": "3.8.20"
  }
 },
 "nbformat": 4,
 "nbformat_minor": 5
}
